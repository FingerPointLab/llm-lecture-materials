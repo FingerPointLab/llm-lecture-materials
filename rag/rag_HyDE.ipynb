{
  "nbformat": 4,
  "nbformat_minor": 0,
  "metadata": {
    "colab": {
      "provenance": []
    },
    "kernelspec": {
      "name": "python3",
      "display_name": "Python 3"
    },
    "language_info": {
      "name": "python"
    }
  },
  "cells": [
    {
      "cell_type": "markdown",
      "source": [
        "# Hypothetical Document Embedding (HyDE) for RAG\n",
        " - 실제 문서를 벡터화하는 대신, **질문을 기반으로 LLM이 생성한 가상의 문서(Hypothetical Document)를 임베딩하여 검색**하는 기법.\n",
        "\n",
        " - 질문 → 가상 문서 → 임베딩 → 벡터DB에서 유사 문서 검색 → 정답 추론\n",
        "\n",
        " - HyDE 사용 이유?\n",
        "    - 임베딩된 질문이 벡터 공간에서 문서와 잘 매칭되지 않을 수 있음\n",
        "    - LLM이 생성한 문서는 더 \"정보 중심적\"이므로 검색 성능이 개선됨"
      ],
      "metadata": {
        "id": "5N8hBs37xS9N"
      }
    },
    {
      "cell_type": "code",
      "source": [
        "%pip install -qU langchain-community tiktoken faiss-cpu"
      ],
      "metadata": {
        "colab": {
          "base_uri": "https://localhost:8080/"
        },
        "id": "5NA3Tg9X0oir",
        "outputId": "24ea0c57-9700-4446-f118-07ac3ebeb96a"
      },
      "execution_count": null,
      "outputs": [
        {
          "output_type": "stream",
          "name": "stdout",
          "text": [
            "\u001b[2K   \u001b[90m━━━━━━━━━━━━━━━━━━━━━━━━━━━━━━━━━━━━━━━━\u001b[0m \u001b[32m30.7/30.7 MB\u001b[0m \u001b[31m26.1 MB/s\u001b[0m eta \u001b[36m0:00:00\u001b[0m\n",
            "\u001b[?25h"
          ]
        }
      ]
    },
    {
      "cell_type": "code",
      "source": [
        "!wget https://raw.githubusercontent.com/FingerPointLab/llm-lecture-materials/refs/heads/main/manufacturing_industry_docs.txt"
      ],
      "metadata": {
        "colab": {
          "base_uri": "https://localhost:8080/"
        },
        "id": "UJKyEe7F0Mhd",
        "outputId": "7568ee0d-9dc0-4501-9f61-1f2a3fc36bbf"
      },
      "execution_count": null,
      "outputs": [
        {
          "output_type": "stream",
          "name": "stdout",
          "text": [
            "--2025-03-24 11:58:30--  https://raw.githubusercontent.com/FingerPointLab/llm-lecture-materials/refs/heads/main/manufacturing_industry_docs.txt\n",
            "Resolving raw.githubusercontent.com (raw.githubusercontent.com)... 185.199.108.133, 185.199.111.133, 185.199.110.133, ...\n",
            "Connecting to raw.githubusercontent.com (raw.githubusercontent.com)|185.199.108.133|:443... connected.\n",
            "HTTP request sent, awaiting response... 200 OK\n",
            "Length: 2920 (2.9K) [text/plain]\n",
            "Saving to: ‘manufacturing_industry_docs.txt.1’\n",
            "\n",
            "manufacturing_indus 100%[===================>]   2.85K  --.-KB/s    in 0s      \n",
            "\n",
            "2025-03-24 11:58:30 (39.7 MB/s) - ‘manufacturing_industry_docs.txt.1’ saved [2920/2920]\n",
            "\n"
          ]
        }
      ]
    },
    {
      "cell_type": "code",
      "source": [
        "from langchain.document_loaders import TextLoader\n",
        "from openai import OpenAI\n",
        "from langchain.embeddings import OpenAIEmbeddings\n",
        "from langchain.vectorstores import FAISS\n",
        "from langchain.docstore.document import Document\n",
        "from langchain.chat_models import ChatOpenAI\n",
        "from langchain.text_splitter import RecursiveCharacterTextSplitter\n",
        "\n",
        "# 🔹 OpenAI API 키 설정 (환경변수 또는 직접 입력)\n",
        "import os\n",
        "os.environ[\"OPENAI_API_KEY\"] = \"openai-api-key\""
      ],
      "metadata": {
        "id": "-n-50zVh0iul"
      },
      "execution_count": null,
      "outputs": []
    },
    {
      "cell_type": "code",
      "source": [
        "def pretty_print_docs(docs):\n",
        "    print(f\"\\n{'-' * 100}\\n\".join([f\"Document {i+1}:\\n\\n\" + d.page_content for i, d in enumerate(docs)]))"
      ],
      "metadata": {
        "id": "X1PdFESp-5RO"
      },
      "execution_count": null,
      "outputs": []
    },
    {
      "cell_type": "code",
      "source": [
        "# 1. 데이터 로딩\n",
        "loader = TextLoader('manufacturing_industry_docs.txt')\n",
        "documents = loader.load()\n",
        "\n",
        "# 2. 텍스트 분할 (Chunking)\n",
        "text_splitter = RecursiveCharacterTextSplitter(chunk_size=100, chunk_overlap=10, separators=[\"\\n\\n\"])\n",
        "docs = text_splitter.split_documents(documents)\n",
        "\n",
        "docs"
      ],
      "metadata": {
        "colab": {
          "base_uri": "https://localhost:8080/"
        },
        "id": "sQ-ZNLvh0b_S",
        "outputId": "36d9ce93-b79f-4650-d439-5c2f20a30b05"
      },
      "execution_count": null,
      "outputs": [
        {
          "output_type": "execute_result",
          "data": {
            "text/plain": [
              "[Document(metadata={'source': 'manufacturing_industry_docs.txt'}, page_content='[문서1]\\n스마트 팩토리는 제조 공정의 자동화와 데이터 기반 최적화를 통해 생산성을 향상시키는 시스템이다.'),\n",
              " Document(metadata={'source': 'manufacturing_industry_docs.txt'}, page_content='[문서2]\\n반도체 제조 공정에는 웨이퍼 세정, 포토리소그래피, 식각, 증착, 검사 공정이 포함된다.'),\n",
              " Document(metadata={'source': 'manufacturing_industry_docs.txt'}, page_content='[문서3]\\n디지털 트윈은 실제 공장의 물리적 상태를 가상 공간에서 시뮬레이션할 수 있게 해준다.'),\n",
              " Document(metadata={'source': 'manufacturing_industry_docs.txt'}, page_content='[문서4]\\nAI 기반 품질 검사는 제품의 외관이나 결함을 자동으로 탐지하고 분류하는 데 사용된다.'),\n",
              " Document(metadata={'source': 'manufacturing_industry_docs.txt'}, page_content='[문서5]\\n산업용 IoT는 센서와 장비를 인터넷으로 연결해 공정 데이터를 실시간 수집하고 분석한다.'),\n",
              " Document(metadata={'source': 'manufacturing_industry_docs.txt'}, page_content='[문서6]\\n3D 프린팅 기술은 제품 개발 주기를 단축하고 맞춤형 생산을 가능하게 만든다.'),\n",
              " Document(metadata={'source': 'manufacturing_industry_docs.txt'}, page_content='[문서7]\\nMES(Manufacturing Execution System)는 생산 현장의 작업 지시, 모니터링, 품질 관리를 통합적으로 수행하는 시스템이다.'),\n",
              " Document(metadata={'source': 'manufacturing_industry_docs.txt'}, page_content='[문서8]\\n탄소 중립 공장은 에너지 효율 향상, 재생 에너지 사용, 탄소 포집 기술 등을 통해 탄소 배출을 최소화한다.'),\n",
              " Document(metadata={'source': 'manufacturing_industry_docs.txt'}, page_content='[문서9]\\n로봇 프로세스 자동화(RPA)는 반복적인 사무 작업을 소프트웨어 로봇이 수행하도록 하는 기술이다.'),\n",
              " Document(metadata={'source': 'manufacturing_industry_docs.txt'}, page_content='[문서10]\\n스마트 물류 시스템은 자동 창고, 무인 운반차, 실시간 재고 추적 시스템 등을 포함한다.'),\n",
              " Document(metadata={'source': 'manufacturing_industry_docs.txt'}, page_content='[문서11]\\n예지 정비 시스템은 장비의 이상 징후를 조기에 감지하여 유지보수 비용과 생산 중단을 최소화한다.'),\n",
              " Document(metadata={'source': 'manufacturing_industry_docs.txt'}, page_content='[문서12]\\n공정 데이터 분석을 통해 불량 원인을 사전에 파악하고 품질 향상을 도모할 수 있다.'),\n",
              " Document(metadata={'source': 'manufacturing_industry_docs.txt'}, page_content='[문서13]\\n에너지 모니터링 시스템은 공장의 전력 사용량을 실시간으로 확인하고 이상 패턴을 탐지한다.'),\n",
              " Document(metadata={'source': 'manufacturing_industry_docs.txt'}, page_content='[문서14]\\n디지털 전환은 전통 제조업에 AI, 빅데이터, 클라우드 등을 적용해 경쟁력을 강화하는 전략이다.'),\n",
              " Document(metadata={'source': 'manufacturing_industry_docs.txt'}, page_content='[문서15]\\n스마트 센서는 온도, 습도, 진동 등 다양한 환경 데이터를 수집하여 설비 상태를 모니터링한다.'),\n",
              " Document(metadata={'source': 'manufacturing_industry_docs.txt'}, page_content='[문서16]\\n반도체 제조는 고도로 정밀한 공정으로 구성되어 있으며, 수십 개의 공정을 거쳐 최종 제품이 생산된다.'),\n",
              " Document(metadata={'source': 'manufacturing_industry_docs.txt'}, page_content='[문서17]\\n반도체 제조 공정에서 포토리소그래피는 반도체 회로를 웨이퍼 표면에 패턴화하는 핵심 공정이다.'),\n",
              " Document(metadata={'source': 'manufacturing_industry_docs.txt'}, page_content='\\n\\n[문서18]\\n반도체 제조 공정 중간 및 최종 단계에서 광학 검사 장비나 전자빔 스캐닝 장비를 활용하여 불량 여부를 검사하고, 수집된 데이터를 통해 공정 조건을 실시간으로 피드백한다.'),\n",
              " Document(metadata={'source': 'manufacturing_industry_docs.txt'}, page_content='[문서19]\\n스마트 팩토리는 IoT, AI, 빅데이터, 클라우드 등 첨단 기술을 제조 현장에 적용하여 생산 공정을 자동화하고 지능화하는 공장이다.'),\n",
              " Document(metadata={'source': 'manufacturing_industry_docs.txt'}, page_content='[문서20]\\n스마트 팩토리의 핵심 목적은 불량률을 줄이고 납기를 단축하며, 에너지 효율을 높이는 것이다.')]"
            ]
          },
          "metadata": {},
          "execution_count": 41
        }
      ]
    },
    {
      "cell_type": "code",
      "source": [
        "# 1. 임베딩 및 검색기 세팅\n",
        "embedding_model = OpenAIEmbeddings()\n",
        "vectorstore = FAISS.from_documents(docs, embedding_model)\n",
        "\n",
        "# 2. 사용자 질문\n",
        "query = \"반도체 제조 공정은 어떤 공정으로 이루어져 있나요?\"\n",
        "# query = \"스마트 팩토리와 디지털 트윈의 차이는?\"\n",
        "# query = \"디지털 트윈은 스마트 팩토리에서 어떤 역할을 하나요?\"\n",
        "# query = \"디지털 전환이 제조업에 미치는 영향은?\"\n",
        "\n",
        "print(\"📝 기본 Retrieval:\\n\")\n",
        "retriever = vectorstore.as_retriever()\n",
        "pretty_print_docs(retriever.invoke(query))"
      ],
      "metadata": {
        "colab": {
          "base_uri": "https://localhost:8080/"
        },
        "id": "Fc-vZDxz0MXP",
        "outputId": "093fb918-14a3-420a-b529-be5507ff61e9"
      },
      "execution_count": null,
      "outputs": [
        {
          "output_type": "stream",
          "name": "stdout",
          "text": [
            "📝 기본 Retrieval:\n",
            "\n",
            "Document 1:\n",
            "\n",
            "[문서16]\n",
            "반도체 제조는 고도로 정밀한 공정으로 구성되어 있으며, 수십 개의 공정을 거쳐 최종 제품이 생산된다.\n",
            "----------------------------------------------------------------------------------------------------\n",
            "Document 2:\n",
            "\n",
            "[문서2]\n",
            "반도체 제조 공정에는 웨이퍼 세정, 포토리소그래피, 식각, 증착, 검사 공정이 포함된다.\n",
            "----------------------------------------------------------------------------------------------------\n",
            "Document 3:\n",
            "\n",
            "[문서17]\n",
            "반도체 제조 공정에서 포토리소그래피는 반도체 회로를 웨이퍼 표면에 패턴화하는 핵심 공정이다.\n",
            "----------------------------------------------------------------------------------------------------\n",
            "Document 4:\n",
            "\n",
            "\n",
            "\n",
            "[문서18]\n",
            "반도체 제조 공정 중간 및 최종 단계에서 광학 검사 장비나 전자빔 스캐닝 장비를 활용하여 불량 여부를 검사하고, 수집된 데이터를 통해 공정 조건을 실시간으로 피드백한다.\n"
          ]
        }
      ]
    },
    {
      "cell_type": "code",
      "source": [
        "\n",
        "# HyDE 문서 생성 (LLM을 활용한 가상 문서 생성)\n",
        "llm = ChatOpenAI(temperature=0.7)\n",
        "hypothetical_doc = llm.predict(f\"다음 질문에 답하기 위해 필요한 문서를 작성하세요: {query}\")\n",
        "\n",
        "print(\"📝 HyDE 문서:\\n\", hypothetical_doc)\n",
        "\n",
        "# 4. HyDE 문서 임베딩 → 검색\n",
        "# retriever = FAISS.from_texts([hypothetical_doc], embedding_model)\n",
        "retrieved_docs = vectorstore.similarity_search(hypothetical_doc, k=3)\n",
        "\n",
        "print(\"\\n🔍HyDE 유사 문서 Top 3:\")\n",
        "# for i, doc in enumerate(retrieved_docs):\n",
        "#     print(f\"{i+1}. {doc.page_content}\")\n",
        "pretty_print_docs(retrieved_docs)\n"
      ],
      "metadata": {
        "colab": {
          "base_uri": "https://localhost:8080/"
        },
        "id": "-vlChyvF0MMn",
        "outputId": "e6b5a539-1cde-400e-e8fb-b14fe24ff60a"
      },
      "execution_count": null,
      "outputs": [
        {
          "output_type": "stream",
          "name": "stdout",
          "text": [
            "📝 HyDE 문서:\n",
            " 반도체 제조 공정은 일반적으로 다음과 같은 단계로 이루어져 있습니다:\n",
            "\n",
            "1. 웨이퍼 제조: 웨이퍼는 반도체 칩의 기본적인 기판으로 사용되는 실리콘 원판입니다. 웨이퍼 제조 단계에서는 산화나 불순물 제거 등의 과정을 통해 웨이퍼 표면을 깨끗하게 만들고 원하는 두께로 다듬어줍니다.\n",
            "\n",
            "2. 노광: 노광은 반도체 칩에 패턴을 만들기 위해 사용되는 공정으로, 미세한 빛을 이용해 반도체 칩의 회로를 형성하는 과정입니다.\n",
            "\n",
            "3. 식각: 식각은 노광으로 만들어진 패턴을 따라 반도체 칩의 층을 조절하는 과정입니다. 이 단계에서는 필요한 물질만 남기고 나머지를 제거하여 반도체 칩의 회로를 형성합니다.\n",
            "\n",
            "4. 증착: 증착은 반도체 칩의 층을 증가시키는 과정으로, 다양한 물질을 증착하여 반도체 칩의 성능을 향상시키는 역할을 합니다.\n",
            "\n",
            "5. 응고: 응고는 반도체 칩을 냉각하여 안정화시키고 마무리 단계로, 반도체 칩의 최종적인 형태를 만들어줍니다.\n",
            "\n",
            "이러한 단계를 거쳐 반도체 제조 공정이 완료되며, 최종적으로 테스트를 거쳐 제품의 품질을 확인합니다.\n",
            "\n",
            "🔍HyDE 유사 문서 Top 3:\n",
            "Document 1:\n",
            "\n",
            "[문서2]\n",
            "반도체 제조 공정에는 웨이퍼 세정, 포토리소그래피, 식각, 증착, 검사 공정이 포함된다.\n",
            "----------------------------------------------------------------------------------------------------\n",
            "Document 2:\n",
            "\n",
            "[문서16]\n",
            "반도체 제조는 고도로 정밀한 공정으로 구성되어 있으며, 수십 개의 공정을 거쳐 최종 제품이 생산된다.\n",
            "----------------------------------------------------------------------------------------------------\n",
            "Document 3:\n",
            "\n",
            "[문서17]\n",
            "반도체 제조 공정에서 포토리소그래피는 반도체 회로를 웨이퍼 표면에 패턴화하는 핵심 공정이다.\n"
          ]
        }
      ]
    },
    {
      "cell_type": "code",
      "source": [],
      "metadata": {
        "id": "hiar3-oe_KGy"
      },
      "execution_count": null,
      "outputs": []
    }
  ]
}